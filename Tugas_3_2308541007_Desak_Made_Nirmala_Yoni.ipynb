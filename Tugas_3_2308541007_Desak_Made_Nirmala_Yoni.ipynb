{
  "metadata": {
    "kernelspec": {
      "language": "python",
      "display_name": "Python 3",
      "name": "python3"
    },
    "language_info": {
      "name": "python",
      "version": "3.10.13",
      "mimetype": "text/x-python",
      "codemirror_mode": {
        "name": "ipython",
        "version": 3
      },
      "pygments_lexer": "ipython3",
      "nbconvert_exporter": "python",
      "file_extension": ".py"
    },
    "kaggle": {
      "accelerator": "none",
      "dataSources": [],
      "dockerImageVersionId": 30673,
      "isInternetEnabled": true,
      "language": "python",
      "sourceType": "notebook",
      "isGpuEnabled": false
    },
    "colab": {
      "name": "Tugas_3_2308541007_Desak_Made_Nirmala_Yoni",
      "provenance": []
    }
  },
  "nbformat_minor": 0,
  "nbformat": 4,
  "cells": [
    {
      "cell_type": "markdown",
      "source": [
        "**2.10 Operator *if* di Python**"
      ],
      "metadata": {
        "id": "4eJunVRwk9Lq"
      }
    },
    {
      "cell_type": "code",
      "source": [
        "#Ini bagian input jawaban dari pengguna\n",
        "tinggi_07= int(input(\"Berapakah tinggi sasuke? \"))\n",
        "cm_atau_mm_07= input(\"Tingginya sasuke dalam cm atau mm? \")\n",
        "\n",
        "#menghasilkan jawaban\n",
        "if cm_atau_mm_07.lower() == 'cm':\n",
        "    tinggi_07= tinggi_07*10\n",
        "    print(f\"Tinggi sasuke adalah {tinggi_07} mm\")\n",
        "elif cm_atau_mm_07.lower() == 'mm':\n",
        "    tinggi_07= tinggi_07/10\n",
        "    print(f\"Tinggi sasuke adalah {tinggi_07} cm\")"
      ],
      "metadata": {
        "trusted": true,
        "id": "HR_pyMhGk9Lu",
        "outputId": "ed0fb912-43dd-465a-f019-80f437a2bf00",
        "colab": {
          "base_uri": "https://localhost:8080/"
        }
      },
      "execution_count": 9,
      "outputs": [
        {
          "output_type": "stream",
          "name": "stdout",
          "text": [
            "Berapakah tinggi sasuke? 178\n",
            "Tingginya sasuke dalam cm atau mm? cm\n",
            "Tinggi sasuke adalah 1780 mm\n"
          ]
        }
      ]
    },
    {
      "cell_type": "code",
      "source": [
        "Iq_07= int(input(\"Skor Intelligence Quotientmu: \"))\n",
        "if Iq_07 >= 140:\n",
        "    print(\"Kualifikasinya genius\")\n",
        "if Iq_07 <= 139 and Iq_07 >= 130:\n",
        "    print(\"Kualifikasinya sangat superior\")\n",
        "if Iq_07 <= 129 and Iq_07 >= 120:\n",
        "    print(\"Kualifikasinya superior\")\n",
        "if Iq_07 <= 119 and Iq_07 >= 110:\n",
        "    print(\"Kualifikasinya di atas rata-rata\")\n",
        "if Iq_07 <= 109 and Iq_07 >= 90:\n",
        "    print(\"Kualifikasinya rata-rata\")\n",
        "if Iq_07 <= 89 and Iq_07 >= 80:\n",
        "    print(\"Kualifikasinya di bawah rata-rata\")\n",
        "if Iq_07 <= 79 and Iq_07 >= 70:\n",
        "    print(\"Kualifikasinya borderline\")\n",
        ""
      ],
      "metadata": {
        "trusted": true,
        "id": "otKaPhPvk9Lw",
        "outputId": "148d9b31-e1ab-41f3-9d6a-36c97cfc2583",
        "colab": {
          "base_uri": "https://localhost:8080/"
        }
      },
      "execution_count": 12,
      "outputs": [
        {
          "output_type": "stream",
          "name": "stdout",
          "text": [
            "Skor Intelligence Quotientmu: 139\n",
            "Kualifikasinya sangat superior\n"
          ]
        }
      ]
    },
    {
      "cell_type": "code",
      "source": [
        "#Inisialisasi variabel\n",
        "Pertanyaan_07= \"Ari kan engene, bisa tebak siapa bias ari?\"\n",
        "Jawaban_Benar_07= \"jake\"\n",
        "\n",
        "#Ini bagian input jawaban dari pengguna\n",
        "Jawaban_Pemain_07= input(f\"{Pertanyaan_07} Apa jawabanmu?: \").lower()\n",
        "\n",
        "#Ini bagian mengecek jawaban\n",
        "if Jawaban_Pemain_07 == Jawaban_Benar_07:\n",
        "    print(f\"uwuu keren, jawabanmu tepat banget\")\n",
        "else:\n",
        "    print(f\"hmmm? iyakah? coba lagi\")"
      ],
      "metadata": {
        "trusted": true,
        "id": "94i8NaVNk9Lx",
        "outputId": "12e1c4e7-34ec-4214-c93c-bbd79d77284c",
        "colab": {
          "base_uri": "https://localhost:8080/"
        }
      },
      "execution_count": 32,
      "outputs": [
        {
          "output_type": "stream",
          "name": "stdout",
          "text": [
            "Ari kan engene, bisa tebak siapa bias ari? Apa jawabanmu?: Jake\n",
            "uwuu keren, jawabanmu tepat banget\n"
          ]
        }
      ]
    },
    {
      "cell_type": "code",
      "source": [
        "#inisialisasi variabel dan input jawaban pengguna\n",
        "warna_bola_07= input(\"Pilih warna apa? \").lower()\n",
        "bola_biru_07= 'biru'\n",
        "bola_merah_07= 'merah'\n",
        "bola_hijau_07= 'hijau'\n",
        "\n",
        "#mengecek jawaban\n",
        "if warna_bola_07 == bola_biru_07:\n",
        "    print(f\"Bola {warna_bola_07} ada di dalam kotak\")\n",
        "elif warna_bola_07 == bola_merah_07:\n",
        "    print(f\"Bola {warna_bola_07} ada di dalam kotak\")\n",
        "elif warna_bola_07 == bola_hijau_07:\n",
        "    print(f\"Bola {warna_bola_07} ada di dalam kotak\")\n",
        "else:\n",
        "    print(f\"Bola {warna_bola_07} tidak ada di dalam kotak\")"
      ],
      "metadata": {
        "trusted": true,
        "id": "2t2qF0BVk9Lx",
        "outputId": "13477c40-1966-46a6-feda-c81344db26c8",
        "colab": {
          "base_uri": "https://localhost:8080/"
        }
      },
      "execution_count": 31,
      "outputs": [
        {
          "output_type": "stream",
          "name": "stdout",
          "text": [
            "Pilih warna apa? Biru\n",
            "Bola biru ada di dalam kotak\n"
          ]
        }
      ]
    },
    {
      "cell_type": "code",
      "source": [
        "intro_07 = print (\"[Zodiarimu.id]\")\n",
        "spasi_07 = print (\" \")\n",
        "iklan_07 = print (\"Kepo sama zodiak doi? Ragu kalo ga cocok sama zodiak sendiri? Tenangg, Zodiarimu ada buatmu\")\n",
        "spasi_07 = print (\" \")\n",
        "\n",
        "#pengguna menginput tanggal lahir (contoh: 15 Maret)\n",
        "tanggal_07 = int(input(\"Masukkan tanggal lahir (1-31): \"))\n",
        "bulan_07 = input(\"Masukkan bulan lahir (Januari-Desember): \").lower()\n",
        "\n",
        "#mengecek zodiak berdasarkan tanggal dan bulan pengguna\n",
        "if (bulan_07 == \"maret\" and 21 <= tanggal_07 <= 31) or (bulan_07 == \"april\" and 1 <= tanggal_07 <= 19):\n",
        "    print(\"Zodiak kamu adalah Aries. Karakter aries: orang yang berani, cepat, dan kompetitif.\")\n",
        "elif (bulan_07 == \"april\" and 20 <= tanggal_07 <= 30) or (bulan_07 == \"mei\" and 1 <= tanggal_07 <= 20):\n",
        "    print(\"Zodiak kamu adalah Taurus. Karakter taurus: orang yang kuat, dapat diandalkan, dan kreatif.\")\n",
        "elif (bulan_07 == \"mei\" and 21 <= tanggal_07 <= 31) or (bulan_07 == \"juni\" and 1 <= tanggal_07 <= 20):\n",
        "    print(\"Zodiak kamu adalah Gemini. Karakter Gemini: orang yang fleksibel, penasaran, ekspresif, dan ramah.\")\n",
        "elif (bulan_07 == \"juni\" and 21 <= tanggal_07 <= 30) or (bulan_07 == \"juli\" and 1 <= tanggal_07 <= 22):\n",
        "    print(\"Zodiak kamu adalah Cancer. Karakter cancer: orang yang protektif, penyayang, dan sentimental.\")\n",
        "elif (bulan_07 == \"juli\" and  23 <= tanggal_07 <= 31) or (bulan_07 == \"agustus\" and 1 <= tanggal_07 <= 22):\n",
        "    print(\"Zodiak kamu adalah Leo. Karakter leo: orang yang dramatis, berapi-api, dan percaya diri.\")\n",
        "elif (bulan_07 == \"agustus\" and 23 <= tanggal_07 <= 31) or (bulan_07 == \"september\" and 1 <= tanggal_07 <= 22):\n",
        "    print(\"Zodiak kamu adalah Virgo. Karakter virgo: orang yang setia, lembut, dan analitis.\")\n",
        "elif (bulan_07 == \"september\" and 23 <= tanggal_07 <= 30) or (bulan_07 == \"oktober\" and 1 <= tanggal_07 <= 22):\n",
        "    print(\"Zodiak kamu adalah Libra. Karakter libra: orang yang adil, diplomatis, dan anggun.\")\n",
        "elif (bulan_07 == \"oktober\" and 23 <= tanggal_07 <= 31) or (bulan_07 == \"november\" and 1 <= tanggal_07 <= 21):\n",
        "    print(\"Zodiak kamu adalah Scorpio. Karakter scorpio: orang yang keras kepala, penuh gairah,dan berani.\")\n",
        "elif (bulan_07 == \"november\" and 23 <= tanggal_07 <= 30) or (bulan_07 == \"desember\" and 1 <= tanggal_07 <= 21):\n",
        "    print(\"Zodiak kamu adalah Sagittarius.  Karakter sagittarius: orang yang lucu, optimis, dan dermawan.\")\n",
        "elif (bulan_07 == \"desember\" and 22 <= tanggal_07 <= 31) or (bulan_07 == \"januari\" and 1 <= tanggal_07 <= 19):\n",
        "    print(\"Zodiak kamu adalah Capricorn. Karakter capricorn: orang yang serius, mandiri, dan disiplin.\")\n",
        "elif (bulan_07 == \"januari\" and 20 <= tanggal_07 <= 31) or (bulan_07 == \"februari\" and 1 <= tanggal_07 <= 18):\n",
        "    print(\"Zodiak kamu adalah Aquarius. Karakter aquarius: orang yang teguh pendirian, imajinatif, dan mendalam.\")\n",
        "elif (bulan_07 == \"februari\" and 19 <= tanggal_07 <= 29) or (bulan_07 == \"maret\" and 1 <= tanggal_07 <= 20):\n",
        "    print(\"Zodiak kamu adalah Pisces. Karakter pisces: orang yang empatik, bijaksana, dan artistik.\")\n",
        "else:\n",
        "    print(\"Tanggal atau bulan tidak valid. Pastikan kamu memasukkan data dengan benar yaa.\")\n"
      ],
      "metadata": {
        "execution": {
          "iopub.status.busy": "2024-04-01T22:49:21.032345Z",
          "iopub.execute_input": "2024-04-01T22:49:21.03274Z",
          "iopub.status.idle": "2024-04-01T23:21:52.433123Z",
          "shell.execute_reply.started": "2024-04-01T22:49:21.032708Z",
          "shell.execute_reply": "2024-04-01T23:21:52.431285Z"
        },
        "trusted": true,
        "id": "E_HfZbOHk9Ly",
        "outputId": "c8c39ca5-657e-4331-84e1-7dbd99ce4c65",
        "colab": {
          "base_uri": "https://localhost:8080/"
        }
      },
      "execution_count": 15,
      "outputs": [
        {
          "output_type": "stream",
          "name": "stdout",
          "text": [
            "[Zodiarimu.id]\n",
            " \n",
            "Kepo sama zodiak doi? Ragu kalo ga cocok sama zodiak sendiri? Tenangg, Zodiarimu ada buatmu\n",
            " \n",
            "Masukkan tanggal lahir (1-31): 9\n",
            "Masukkan bulan lahir (Januari-Desember): mei\n",
            "Zodiak kamu adalah Taurus. Karakter taurus: orang yang kuat, dapat diandalkan, dan kreatif.\n"
          ]
        }
      ]
    },
    {
      "cell_type": "markdown",
      "source": [
        "**2.11 *While loop***"
      ],
      "metadata": {
        "id": "T-4DSUQ4k9Lz"
      }
    },
    {
      "cell_type": "code",
      "source": [
        "#Ini bagian input jawaban dari pengguna\n",
        "Waktu_07 = int(input(\"Mau coba hitung mundur? Coba masukin angkamu: \"))\n",
        "\n",
        "#menghasilkan jawaban\n",
        "while Waktu_07 > 0:\n",
        "    print(f\"Waktu mundur: {Waktu_07} detik\")\n",
        "    Waktu_07 -= 1\n",
        "print (\"Yay waktu habis^^\")"
      ],
      "metadata": {
        "trusted": true,
        "id": "OVaFvb8Wk9L0",
        "outputId": "e378a961-0339-4ee2-fc7a-e96e0ad2ab1c",
        "colab": {
          "base_uri": "https://localhost:8080/"
        }
      },
      "execution_count": 16,
      "outputs": [
        {
          "output_type": "stream",
          "name": "stdout",
          "text": [
            "Mau coba hitung mundur? Coba masukin angkamu: 5\n",
            "Waktu mundur: 5 detik\n",
            "Waktu mundur: 4 detik\n",
            "Waktu mundur: 3 detik\n",
            "Waktu mundur: 2 detik\n",
            "Waktu mundur: 1 detik\n",
            "Yay waktu habis^^\n"
          ]
        }
      ]
    },
    {
      "cell_type": "code",
      "source": [
        "#inisialisasi banyak baris untuk membentuk pola segitiga +\n",
        "Baris_07 = 10\n",
        "#inisialisasi baris awal\n",
        "Baris_Awal_07 = 1\n",
        "#dipakai while loop untuk print setiap baris\n",
        "while Baris_Awal_07 <= Baris_07:\n",
        "    #print spasi di depan\n",
        "    print(' ' * (Baris_07 - Baris_Awal_07) + '+ ' * Baris_Awal_07)\n",
        "    #pindah ke baris setelahnya\n",
        "    Baris_Awal_07 += 1"
      ],
      "metadata": {
        "trusted": true,
        "id": "XzmhVlG8k9L0",
        "outputId": "7ef07ec3-6dad-4ec8-e7f6-f39372d942f4",
        "colab": {
          "base_uri": "https://localhost:8080/"
        }
      },
      "execution_count": 17,
      "outputs": [
        {
          "output_type": "stream",
          "name": "stdout",
          "text": [
            "         + \n",
            "        + + \n",
            "       + + + \n",
            "      + + + + \n",
            "     + + + + + \n",
            "    + + + + + + \n",
            "   + + + + + + + \n",
            "  + + + + + + + + \n",
            " + + + + + + + + + \n",
            "+ + + + + + + + + + \n"
          ]
        }
      ]
    },
    {
      "cell_type": "markdown",
      "source": [
        "**Kombinasi penggunaan operator if dan while loop**"
      ],
      "metadata": {
        "id": "y57Mg2E7k9L1"
      }
    },
    {
      "cell_type": "code",
      "source": [
        "#ceritanya mengecek komputer sudah dimatikan atau belum sebelum pergi tidur\n",
        "Komputer_Hidup_07 = True\n",
        "while Komputer_Hidup_07:\n",
        "    Komputer_Hidup_07 = False\n",
        "    print(\"Komputernya sudah aku matikan, sekarang aku bisa pergi tidur.\")\n",
        "    if not Komputer_Hidup_07:\n",
        "        print(\"Bye-bye tugass, selamat tidurr~\")"
      ],
      "metadata": {
        "execution": {
          "iopub.status.busy": "2024-04-01T23:21:52.438593Z",
          "iopub.status.idle": "2024-04-01T23:21:52.439232Z",
          "shell.execute_reply.started": "2024-04-01T23:21:52.439006Z",
          "shell.execute_reply": "2024-04-01T23:21:52.439032Z"
        },
        "trusted": true,
        "id": "FHApdRhQk9L1",
        "outputId": "e8dd5a9e-996d-4dc3-98a8-59aa64fef8c3",
        "colab": {
          "base_uri": "https://localhost:8080/"
        }
      },
      "execution_count": 20,
      "outputs": [
        {
          "output_type": "stream",
          "name": "stdout",
          "text": [
            "Komputernya sudah aku matikan, sekarang aku bisa pergi tidur.\n",
            "Bye-bye tugass, selamat tidurr~\n"
          ]
        }
      ]
    },
    {
      "cell_type": "code",
      "source": [
        "#mengonsumsi kopi dalam sehari\n",
        "#inisialisasi variabel\n",
        "Jumlah_Cangkir_07 = 0\n",
        "Batas_Cangkir_07 = 3\n",
        "while Jumlah_Cangkir_07 < Batas_Cangkir_07:\n",
        "    Jumlah_Cangkir_07 += 1\n",
        "    print(f\"Pangeran Wen Junhui sudah minum {Jumlah_Cangkir_07} cangkir kopi.\")\n",
        "    if Jumlah_Cangkir_07 == Batas_Cangkir_07:\n",
        "        print(\"Maaf, batas konsumsi kopi harian sudah mencapai batas, mohon berhenti minum kopi tuan.\")"
      ],
      "metadata": {
        "id": "P0VNAB_Sk9L1",
        "outputId": "ffa04328-fcb7-4c3c-cfda-e411c7524b12",
        "colab": {
          "base_uri": "https://localhost:8080/"
        }
      },
      "execution_count": 19,
      "outputs": [
        {
          "output_type": "stream",
          "name": "stdout",
          "text": [
            "Pangeran Wen Junhui sudah minum 1 cangkir kopi.\n",
            "Pangeran Wen Junhui sudah minum 2 cangkir kopi.\n",
            "Pangeran Wen Junhui sudah minum 3 cangkir kopi.\n",
            "Maaf, batas konsumsi kopi harian sudah mencapai batas, mohon berhenti minum kopi tuan.\n"
          ]
        }
      ]
    }
  ]
}
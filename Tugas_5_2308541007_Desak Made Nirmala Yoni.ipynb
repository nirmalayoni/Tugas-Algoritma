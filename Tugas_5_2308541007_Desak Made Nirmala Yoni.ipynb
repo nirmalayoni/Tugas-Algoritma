{
  "cells": [
    {
      "cell_type": "markdown",
      "metadata": {
        "id": "U6pW0evLgthb"
      },
      "source": [
        "**2.15 Fungsi Range**"
      ]
    },
    {
      "cell_type": "code",
      "execution_count": null,
      "metadata": {
        "colab": {
          "base_uri": "https://localhost:8080/"
        },
        "id": "hZCj3VbBk6Ml",
        "outputId": "eb3f741f-3f48-429e-db43-d4f707cc851a"
      },
      "outputs": [
        {
          "output_type": "stream",
          "name": "stdout",
          "text": [
            "5\n",
            "6\n",
            "7\n",
            "8\n",
            "9\n",
            "10\n",
            "11\n",
            "12\n",
            "13\n",
            "14\n"
          ]
        }
      ],
      "source": [
        "angka_07 = range (5,15)\n",
        "for isi_07 in angka_07:\n",
        "  print(isi_07)"
      ]
    },
    {
      "cell_type": "code",
      "execution_count": null,
      "metadata": {
        "colab": {
          "base_uri": "https://localhost:8080/"
        },
        "id": "qPOelUcP-VFJ",
        "outputId": "ac8efc6a-3b33-4490-a70a-2a5fc7f48078"
      },
      "outputs": [
        {
          "output_type": "stream",
          "name": "stdout",
          "text": [
            "1\n",
            "3\n",
            "5\n",
            "7\n",
            "9\n",
            "11\n",
            "13\n",
            "15\n",
            "17\n",
            "19\n"
          ]
        }
      ],
      "source": [
        "for angka_ganjil_07 in range(1,21,2):\n",
        "  print(angka_ganjil_07)"
      ]
    },
    {
      "cell_type": "code",
      "execution_count": null,
      "metadata": {
        "colab": {
          "base_uri": "https://localhost:8080/"
        },
        "id": "_82ZGi-3k7Tl",
        "outputId": "b262d815-e5bc-468f-c034-edbece90d9d6"
      },
      "outputs": [
        {
          "output_type": "stream",
          "name": "stdout",
          "text": [
            "4\n",
            "8\n",
            "12\n",
            "16\n"
          ]
        }
      ],
      "source": [
        "for bilangan_07 in range(1,20):\n",
        "  if bilangan_07 % 4 == 0:\n",
        "    print(bilangan_07)"
      ]
    },
    {
      "cell_type": "code",
      "execution_count": null,
      "metadata": {
        "colab": {
          "base_uri": "https://localhost:8080/"
        },
        "id": "4FK-iHbgk8Gd",
        "outputId": "f17175fb-5d1c-4311-d360-7b288ecd77c7"
      },
      "outputs": [
        {
          "output_type": "stream",
          "name": "stdout",
          "text": [
            "Nilai terbesar dari nilai terkecil: [2, 3, 4, 5, 6]\n"
          ]
        }
      ],
      "source": [
        "matadadu_07 = [1,2,3,4,5,6]\n",
        "minimal_07 = min(matadadu_07)\n",
        "hasil_07 = list(range(minimal_07 + 1, max(matadadu_07) + 1))\n",
        "print(f\"Nilai terbesar dari nilai terkecil: {hasil_07}\")"
      ]
    },
    {
      "cell_type": "code",
      "execution_count": null,
      "metadata": {
        "id": "mN9zuEWWk7iF",
        "colab": {
          "base_uri": "https://localhost:8080/"
        },
        "outputId": "f21276d2-2e86-4efa-850a-6055b1daae9e"
      },
      "outputs": [
        {
          "output_type": "stream",
          "name": "stdout",
          "text": [
            "[2, 3, 4, 5, 6]\n"
          ]
        }
      ],
      "source": [
        "matadadu_07 = [1,2,3,4,5,6]\n",
        "minimal_07 = min(matadadu_07)\n",
        "hasil_07 = []\n",
        "for i in range(minimal_07 + 1, max(matadadu_07) + 1):\n",
        "  hasil_07.append(i)\n",
        "print(hasil_07)"
      ]
    },
    {
      "cell_type": "markdown",
      "metadata": {
        "id": "WeQbZo56k9Gm"
      },
      "source": [
        "**2.16 List 2 Dimensi**"
      ]
    },
    {
      "cell_type": "code",
      "execution_count": null,
      "metadata": {
        "colab": {
          "base_uri": "https://localhost:8080/"
        },
        "id": "2CR3kthylT82",
        "outputId": "f25cab22-5714-4499-d818-e1299bc43857"
      },
      "outputs": [
        {
          "output_type": "stream",
          "name": "stdout",
          "text": [
            "Ibu menyiapkan list belanjaan sayuran berisi harga\n",
            "[['Bayam', 5000], ['Wortel', 7000], ['Kangkung', 4000], ['Tomat', 8000]]\n",
            "Ibu mau membeli sayur yang berwarna hijau untuk sup yaitu ['Bayam', 5000] dan ['Kangkung', 4000]\n"
          ]
        }
      ],
      "source": [
        "print(\"Ibu menyiapkan list belanjaan sayuran berisi harga\")\n",
        "sayur_harga_07 = [\n",
        "    [\"Bayam\", 5000],\n",
        "    [\"Wortel\", 7000],\n",
        "    [\"Kangkung\", 4000],\n",
        "    [\"Tomat\", 8000]\n",
        "]\n",
        "print(sayur_harga_07)\n",
        "print(f\"Ibu mau membeli sayur yang berwarna hijau untuk sup yaitu {sayur_harga_07[0]} dan {sayur_harga_07[2]}\")"
      ]
    },
    {
      "cell_type": "code",
      "execution_count": null,
      "metadata": {
        "id": "xE89Xnf2lUYO",
        "colab": {
          "base_uri": "https://localhost:8080/"
        },
        "outputId": "0ee6fdd1-987c-4c17-8731-bbfb9c774cf7"
      },
      "outputs": [
        {
          "output_type": "stream",
          "name": "stdout",
          "text": [
            "Ari's playlist:\n",
            "1. God of Music (3.25 menit)\n",
            "2. Very Nice (3.12 menit)\n",
            "3. Don't Wanna Cry (3.23 menit)\n",
            "4. Thanks (3.33 menit)\n",
            "5. Home (3.23 menit)\n",
            "6. Clap (2.47 menit)\n",
            "7. Mansae (3.06 menit)\n",
            "8. Left & Right (3.21 menit)\n",
            "Lagu mana yang ingin kamu putar: 5\n",
            "Lagu yang kamu putar sekarang: ['Home', 3.23]\n"
          ]
        }
      ],
      "source": [
        "playlist_seventeen_07 = [\n",
        "    [\"God of Music\", 3.25],\n",
        "    [\"Very Nice\", 3.12],\n",
        "    [\"Don't Wanna Cry\", 3.23],\n",
        "    [\"Thanks\", 3.33],\n",
        "    [\"Home\", 3.23],\n",
        "    [\"Clap\", 2.47],\n",
        "    [\"Mansae\", 3.06],\n",
        "    [\"Left & Right\", 3.21]\n",
        "]\n",
        "print(\"Ari's playlist:\")\n",
        "for index, lagu in enumerate(playlist_seventeen_07):\n",
        "# fungsi enumerate berguna untuk mengiterasi melalui elemen-elemen suatu iterable (seperti list, tuple, atau string) bersamaan dengan indeksnya\n",
        "    judul, durasi = lagu\n",
        "    print(f\"{index+1}. {judul} ({durasi} menit)\")\n",
        "\n",
        "pilihanlagu_07 = int(input(\"Lagu mana yang ingin kamu putar: \"))\n",
        "if 1 <= pilihanlagu_07 <= len(playlist_seventeen_07):\n",
        "    lagu_dipilih_07 = playlist_seventeen_07[pilihanlagu_07-1]\n",
        "    print(f\"Lagu yang kamu putar sekarang: {lagu_dipilih_07}\")\n",
        "else:\n",
        "    print(\"Maaf, lagu yang kamu inginkan tidak ada di pilihan. Silakan pilih yang ada di playlist\")"
      ]
    },
    {
      "cell_type": "markdown",
      "metadata": {
        "id": "MzwmGx2KlE_I"
      },
      "source": [
        "**2.17 Tuples**"
      ]
    },
    {
      "cell_type": "code",
      "execution_count": null,
      "metadata": {
        "id": "wtA9W_eUlVQ2"
      },
      "outputs": [],
      "source": [
        "bilangan_komposit_07 = (4,6,8,9,10,12,14,15)\n",
        "print(bilangan_komposit_07[0:7])\n",
        "print(bilangan_komposit_07[2] < 5)"
      ]
    },
    {
      "cell_type": "code",
      "execution_count": null,
      "metadata": {
        "id": "U5iHiEI9lVX-",
        "colab": {
          "base_uri": "https://localhost:8080/"
        },
        "outputId": "4f50aa5a-3daa-4156-8391-1016709704d0"
      },
      "outputs": [
        {
          "output_type": "stream",
          "name": "stdout",
          "text": [
            "('Nasi Campur', 'Soto', 'Mie Goreng', 'Nasi Telor')\n"
          ]
        }
      ],
      "source": [
        "menu_warung_07 = (\"Nasi Campur\",\"Soto\", \"Mie Goreng\", \"Nasi Telor\", \"Nasi Goreng\")\n",
        "harga_menu_07 = {\n",
        "     \"Nasi Campur\": 10000,\n",
        "     \"Soto\": 10000,\n",
        "     \"Mie Goreng\": 8000,\n",
        "     \"Nasi Telor\": 10000,\n",
        "     \"Nasi Goreng\": 15000\n",
        "}\n",
        "print(menu_warung_07[0:4])"
      ]
    },
    {
      "cell_type": "code",
      "execution_count": 39,
      "metadata": {
        "id": "gUrVBzF3lVe9",
        "colab": {
          "base_uri": "https://localhost:8080/"
        },
        "outputId": "3615c60e-1d22-45cb-cc07-a49521981b67"
      },
      "outputs": [
        {
          "output_type": "stream",
          "name": "stdout",
          "text": [
            "Menu Warung Bu Sofia:\n",
            "1. Nasi Campur\n",
            "2. Soto\n",
            "3. Mie Goreng\n",
            "4. Nasi Telor\n",
            "5. Nasi Goreng\n",
            "Mas/mba mau pesen menu apa?: 2\n",
            "Mas/mba mau pesen Soto ya\n",
            "Harga Soto nya Rp 10000\n"
          ]
        }
      ],
      "source": [
        "menu_warung_07 = (\"Nasi Campur\",\"Soto\", \"Mie Goreng\", \"Nasi Telor\", \"Nasi Goreng\")\n",
        "harga_menu_07 = {\n",
        "     \"Nasi Campur\": 10000,\n",
        "     \"Soto\": 10000,\n",
        "     \"Mie Goreng\": 8000,\n",
        "     \"Nasi Telor\": 10000,\n",
        "     \"Nasi Goreng\": 15000\n",
        "}\n",
        "print(\"Menu Warung Bu Sofia:\")\n",
        "for i, makanan_07 in enumerate(menu_warung_07, start=1):\n",
        "   print(f\"{i}. {makanan_07}\")\n",
        "\n",
        "pilih_menu_07 = int(input(\"Mas/mba mau pesen menu apa?: \"))\n",
        "if 1 <= pilih_menu_07 <= len(menu_warung_07):\n",
        "    pesanan_07 = menu_warung_07[pilih_menu_07 - 1]\n",
        "    print(f\"Mas/mba mau pesen {pesanan_07} ya\")\n",
        "    if pesanan_07 in harga_menu_07:\n",
        "       total_harga_07 = harga_menu_07[pesanan_07]\n",
        "       print(f\"Harga {pesanan_07} nya Rp {total_harga_07}\")\n",
        "else:\n",
        "    print(\"Maaf mas/mba menu yang kamu pengen engga ada di sini\")"
      ]
    },
    {
      "cell_type": "markdown",
      "metadata": {
        "id": "540aCZJ_lHL4"
      },
      "source": [
        "**2.18 Dictionaries**"
      ]
    },
    {
      "cell_type": "code",
      "execution_count": null,
      "metadata": {
        "colab": {
          "base_uri": "https://localhost:8080/"
        },
        "id": "D9OdNKJRlXnf",
        "outputId": "f55ce362-c9c1-4b12-d0fd-54958eab6078"
      },
      "outputs": [
        {
          "name": "stdout",
          "output_type": "stream",
          "text": [
            "{'Anggur': 'Ungu', 'Ceri': 'Merah', 'Jeruk': 'Orange'}\n"
          ]
        }
      ],
      "source": [
        "buah_warna_07 = {\n",
        "    \"Anggur\": \"Ungu\",\n",
        "    \"Ceri\": \"Merah\",\n",
        "    \"Jeruk\": \"Orange\"\n",
        "}\n",
        "print(buah_warna_07)"
      ]
    },
    {
      "cell_type": "code",
      "execution_count": 41,
      "metadata": {
        "id": "QiQ8BIMjlXvu",
        "colab": {
          "base_uri": "https://localhost:8080/"
        },
        "outputId": "d3a422d0-daef-4c20-ab9a-4e2f0fb4e6a5"
      },
      "outputs": [
        {
          "output_type": "stream",
          "name": "stdout",
          "text": [
            "Levi Ackerman\n"
          ]
        }
      ],
      "source": [
        "biodata_anime_07 = {\n",
        "   \"Nama\" : \"Levi Ackerman\",\n",
        "   \"Tinggi badan\" : 158,\n",
        "   \"Umur\" : 30,\n",
        "   \"Sudah menikah\" : False\n",
        "}\n",
        "print(biodata_anime_07['Nama'])"
      ]
    },
    {
      "cell_type": "markdown",
      "metadata": {
        "id": "e5GWglq-lJ7p"
      },
      "source": [
        "**2.19 Fungsi dalam Python**"
      ]
    },
    {
      "cell_type": "code",
      "execution_count": null,
      "metadata": {
        "colab": {
          "base_uri": "https://localhost:8080/"
        },
        "id": "dt8jVKcilYcS",
        "outputId": "61d9792a-f594-40f0-8c3e-c7c962b69360"
      },
      "outputs": [
        {
          "name": "stdout",
          "output_type": "stream",
          "text": [
            "40320\n"
          ]
        }
      ],
      "source": [
        "def faktorial_07(n):\n",
        "  hasil_07 = 1\n",
        "  for i in range(1,n+1):\n",
        "    hasil_07 *= i\n",
        "  return hasil_07\n",
        "print(faktorial_07(8))"
      ]
    },
    {
      "cell_type": "code",
      "source": [
        "def prima(angka_07):\n",
        "    if angka_07 < 2:\n",
        "       return False\n",
        "    for i in range(2, int(angka_07**0.5) +1):\n",
        "       if angka_07 % i == 0:\n",
        "          return False\n",
        "    return True\n",
        "\n",
        "angka_prima_07 = [angka_07 for angka_07 in range(1, 30) if prima(angka_07)]\n",
        "print(angka_prima_07)"
      ],
      "metadata": {
        "id": "W_ekQdoMVTik",
        "colab": {
          "base_uri": "https://localhost:8080/"
        },
        "outputId": "c765a667-dc20-4b5d-b803-5608a478a6e6"
      },
      "execution_count": 43,
      "outputs": [
        {
          "output_type": "stream",
          "name": "stdout",
          "text": [
            "[2, 3, 5, 7, 11, 13, 17, 19, 23, 29]\n"
          ]
        }
      ]
    }
  ],
  "metadata": {
    "colab": {
      "provenance": []
    },
    "kernelspec": {
      "display_name": "Python 3",
      "name": "python3"
    },
    "language_info": {
      "name": "python"
    }
  },
  "nbformat": 4,
  "nbformat_minor": 0
}
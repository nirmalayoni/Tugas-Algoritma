{
  "nbformat": 4,
  "nbformat_minor": 0,
  "metadata": {
    "colab": {
      "provenance": []
    },
    "kernelspec": {
      "name": "python3",
      "display_name": "Python 3"
    },
    "language_info": {
      "name": "python"
    }
  },
  "cells": [
    {
      "cell_type": "markdown",
      "source": [
        "**2.12 List di Python**"
      ],
      "metadata": {
        "id": "51k8VU-gBPTZ"
      }
    },
    {
      "cell_type": "code",
      "source": [
        "#membuat list tentang hewan imut\n",
        "hewan_imut_07 = ['Kucing','Panda','Kelinci','Lumba-lumba','Tupai']\n",
        "print(hewan_imut_07)"
      ],
      "metadata": {
        "colab": {
          "base_uri": "https://localhost:8080/"
        },
        "id": "H7k4BCgG5l68",
        "outputId": "7aa65db9-2796-4c2a-b62f-0ebf8053ab84"
      },
      "execution_count": 49,
      "outputs": [
        {
          "output_type": "stream",
          "name": "stdout",
          "text": [
            "['Kucing', 'Panda', 'Kelinci', 'Lumba-lumba', 'Tupai']\n"
          ]
        }
      ]
    },
    {
      "cell_type": "code",
      "source": [
        "#mencari elemen ketiga di list\n",
        "elemen_ketiga_07 = print(hewan_imut_07[3])"
      ],
      "metadata": {
        "colab": {
          "base_uri": "https://localhost:8080/"
        },
        "id": "1Evj5ujx_i01",
        "outputId": "25c55ec2-bdf2-486e-ca11-3e8004e39b3a"
      },
      "execution_count": 50,
      "outputs": [
        {
          "output_type": "stream",
          "name": "stdout",
          "text": [
            "Lumba-lumba\n"
          ]
        }
      ]
    },
    {
      "cell_type": "code",
      "source": [
        "#mengurutkan list 0 sampai 3\n",
        "elemen_nol_sampai_ketiga_07 = print(hewan_imut_07[0:3])"
      ],
      "metadata": {
        "colab": {
          "base_uri": "https://localhost:8080/"
        },
        "id": "Ot4_jal__Jle",
        "outputId": "d2fb8bdd-adc7-450f-cc9a-9b0abb433a11"
      },
      "execution_count": 51,
      "outputs": [
        {
          "output_type": "stream",
          "name": "stdout",
          "text": [
            "['Kucing', 'Panda', 'Kelinci']\n"
          ]
        }
      ]
    },
    {
      "cell_type": "code",
      "source": [
        "#mengganti elemen tupai menjadi golden retriever\n",
        "hewan_imut_07[4] = 'Golden Retriever'\n",
        "print(hewan_imut_07)"
      ],
      "metadata": {
        "colab": {
          "base_uri": "https://localhost:8080/"
        },
        "id": "9y7ZXJ0W_-sl",
        "outputId": "02569429-1e02-46fb-ec75-f6fb0695a79e"
      },
      "execution_count": 52,
      "outputs": [
        {
          "output_type": "stream",
          "name": "stdout",
          "text": [
            "['Kucing', 'Panda', 'Kelinci', 'Lumba-lumba', 'Golden Retriever']\n"
          ]
        }
      ]
    },
    {
      "cell_type": "code",
      "source": [
        "superhero_07 = ['Batman','Iron Man','Astro Boy','Shiva','Spiderman']\n",
        "list_superhero_07 = print(\"Superhero kesukaan anak-anak:\")\n",
        "print(superhero_07)\n",
        "\n",
        "temukan_superhero_07 = input(\"Beri tau aku mana superhero yang dari Jepang^o^= \")\n",
        "jawaban_superhero_07 = 'Astro Boy'\n",
        "\n",
        "if temukan_superhero_07 == jawaban_superhero_07:\n",
        "  print(\"Wah jawaban kamu benar!. Astro Boy merupakan salah satu superhero dari Jepang\")\n",
        "else:\n",
        "  print(\"Tetott X, jawabannya adalah Astro Boy\")"
      ],
      "metadata": {
        "id": "j9TEurzcIwqb",
        "colab": {
          "base_uri": "https://localhost:8080/"
        },
        "outputId": "c2c72aec-0e2c-4d0b-e8e3-b2af2db8caf8"
      },
      "execution_count": 53,
      "outputs": [
        {
          "output_type": "stream",
          "name": "stdout",
          "text": [
            "Superhero kesukaan anak-anak:\n",
            "['Batman', 'Iron Man', 'Astro Boy', 'Shiva', 'Spiderman']\n",
            "Beri tau aku mana superhero yang dari Jepang^o^= Iron Man\n",
            "Tetott X, jawabannya adalah Astro Boy\n"
          ]
        }
      ]
    },
    {
      "cell_type": "code",
      "source": [
        "kartun_07 = ['Shinchan','Pikachu','Kirby','Melody','Doraemon']\n",
        "list_kartun_07 = print(\"Kartun lucu jepang kesukaan anak-anak:\")\n",
        "print(kartun_07)\n",
        "\n",
        "pilih_kartun_07 = input(\"Pilih kartun dari list di atas ya^-^ \")\n",
        "if pilih_kartun_07 in kartun_07:\n",
        "  berhitung_07 = int(input(f\"Hai {pilih_kartun_07} ayo kita berhitung!, kamu mau mulai dari angka apa? \"))\n",
        "  while berhitung_07 >= 1 and berhitung_07 <= 10:\n",
        "    print(f\"{berhitung_07}\")\n",
        "    berhitung_07 += 1\n",
        "  print(f\"Yay {pilih_kartun_07} hebatt! besok main lagi yaa\")\n",
        "else:\n",
        "  print(\"Maaf ya:( nama kartunnya engga ada dalam list\")"
      ],
      "metadata": {
        "colab": {
          "base_uri": "https://localhost:8080/"
        },
        "id": "4q7WWKbot_yc",
        "outputId": "b6edd05c-7be3-4820-9fa5-feccf91ea151"
      },
      "execution_count": 54,
      "outputs": [
        {
          "output_type": "stream",
          "name": "stdout",
          "text": [
            "Kartun lucu jepang kesukaan anak-anak:\n",
            "['Shinchan', 'Pikachu', 'Kirby', 'Melody', 'Doraemon']\n",
            "Pilih kartun dari list di atas ya^-^ Shinchan\n",
            "Hai Shinchan ayo kita berhitung!, kamu mau mulai dari angka apa? 3\n",
            "3\n",
            "4\n",
            "5\n",
            "6\n",
            "7\n",
            "8\n",
            "9\n",
            "10\n",
            "Yay Shinchan hebatt! besok main lagi yaa\n"
          ]
        }
      ]
    },
    {
      "cell_type": "markdown",
      "source": [
        "**2.13 Metoda List**"
      ],
      "metadata": {
        "id": "TTvSfsP9AqzM"
      }
    },
    {
      "cell_type": "code",
      "source": [
        "#menambahkan merk hp lain ke dalam list\n",
        "merk_hp_07 = ['Samsung','Apple','Lenovo','Xiaomi']\n",
        "merk_hp_07.append('Oppo')\n",
        "print(merk_hp_07)"
      ],
      "metadata": {
        "id": "e1lXQJfoA1fG",
        "colab": {
          "base_uri": "https://localhost:8080/"
        },
        "outputId": "cb651ca3-cc16-45bf-9ad3-cc9f09743d62"
      },
      "execution_count": 55,
      "outputs": [
        {
          "output_type": "stream",
          "name": "stdout",
          "text": [
            "['Samsung', 'Apple', 'Lenovo', 'Xiaomi', 'Oppo']\n"
          ]
        }
      ]
    },
    {
      "cell_type": "code",
      "source": [
        "#mengecek apakah merk hp terdapat pada list atau tidak\n",
        "merk_hp_07 = ['Samsung','Apple','Lenovo','Xiaomi']\n",
        "print('Xiaomi' in merk_hp_07)"
      ],
      "metadata": {
        "id": "ZuRwrDbSE19H",
        "colab": {
          "base_uri": "https://localhost:8080/"
        },
        "outputId": "10831554-2504-4857-b6cd-889ac1512bff"
      },
      "execution_count": 36,
      "outputs": [
        {
          "output_type": "stream",
          "name": "stdout",
          "text": [
            "True\n"
          ]
        }
      ]
    },
    {
      "cell_type": "code",
      "source": [
        "#mengecek apakah merk hp terdapat pada list atau tidak\n",
        "merk_hp_07 = ['Samsung','Apple','Lenovo','Xiaomi']\n",
        "print('Vivo' in merk_hp_07)"
      ],
      "metadata": {
        "id": "vjsiyDJCE2Rm",
        "colab": {
          "base_uri": "https://localhost:8080/"
        },
        "outputId": "bcf8bbd9-6cfe-43af-e554-89705dc5db2c"
      },
      "execution_count": 56,
      "outputs": [
        {
          "output_type": "stream",
          "name": "stdout",
          "text": [
            "False\n"
          ]
        }
      ]
    },
    {
      "cell_type": "code",
      "source": [
        "warna_07 = ['putih','hitam','kuning','pink','biru','hijau','orange']\n",
        "#menambah elemen warna baru ke dalam list\n",
        "warna_07.append('ungu')\n",
        "#menghapus elemen warna dari list\n",
        "warna_07.remove('pink')\n",
        "#menampilkan hasil setelah ada perubahan\n",
        "print(warna_07)"
      ],
      "metadata": {
        "colab": {
          "base_uri": "https://localhost:8080/"
        },
        "id": "VlZh-Ae3DQzH",
        "outputId": "11400bed-e457-4ace-dd8d-f567bf288978"
      },
      "execution_count": 57,
      "outputs": [
        {
          "output_type": "stream",
          "name": "stdout",
          "text": [
            "['putih', 'hitam', 'kuning', 'biru', 'hijau', 'orange', 'ungu']\n"
          ]
        }
      ]
    },
    {
      "cell_type": "markdown",
      "source": [
        "**2.14 For loop**"
      ],
      "metadata": {
        "id": "oE4Eqss5EuLH"
      }
    },
    {
      "cell_type": "code",
      "source": [
        "#memanggil semua isi list\n",
        "kue_07 = ['Kue Lapis','Tiramisu','Macaroon','Kue Bolu','Kue Stroberi','Cupcake']\n",
        "for jenis_07 in kue_07:\n",
        "  print(jenis_07)"
      ],
      "metadata": {
        "colab": {
          "base_uri": "https://localhost:8080/"
        },
        "id": "W8hflvUo8-C1",
        "outputId": "e559b470-939f-48be-9d72-b3340eb89f25"
      },
      "execution_count": 58,
      "outputs": [
        {
          "output_type": "stream",
          "name": "stdout",
          "text": [
            "Kue Lapis\n",
            "Tiramisu\n",
            "Macaroon\n",
            "Kue Bolu\n",
            "Kue Stroberi\n",
            "Cupcake\n"
          ]
        }
      ]
    },
    {
      "cell_type": "code",
      "source": [
        "angka_07 = [11,12,13,14,15,16,17,18,19,20]\n",
        "angka_ganjil_dikali_dua_07 = [x*2 for x in angka_07 if x % 2 != 0]\n",
        "print(angka_ganjil_dikali_dua_07)"
      ],
      "metadata": {
        "colab": {
          "base_uri": "https://localhost:8080/"
        },
        "id": "WBTBYZ_K6JQ_",
        "outputId": "477ca76f-a6ca-40b1-fcf4-af1d00cca244"
      },
      "execution_count": 47,
      "outputs": [
        {
          "output_type": "stream",
          "name": "stdout",
          "text": [
            "[22, 26, 30, 34, 38]\n"
          ]
        }
      ]
    },
    {
      "cell_type": "code",
      "source": [
        "pertanyaan_kuis_07 = {\"Apa makanan favorit naruto?\": \"Ramen\",\n",
        "                     \"Apa nama jurus andalan naruto?\": \"Rasengan\",\n",
        "                     \"Dimana naruto lahir?\": \"Konoha\",\n",
        "                     \"Apa nama anime bajak laut?\": \"One piece\",\n",
        "                     \"Apa nama kartun lucu warna kuning di Pokemon?\": \"Pikachu\"}\n",
        "skor_07= 0\n",
        "\n",
        "for pertanyaan, jawaban in pertanyaan_kuis_07.items():\n",
        "    jawaban_pemain_07 = input(pertanyaan)\n",
        "    if jawaban_pemain_07 == jawaban:\n",
        "        print(\"Kamu benar!\")\n",
        "        skor_07 += 20\n",
        "    else:\n",
        "        print(\"Kamu salah!\")\n",
        "\n",
        "hasil_07= print(f\"Akumulasi skor akhir kamu adalah {skor_07} , sampai jumpa di kuis berikutnya!\")"
      ],
      "metadata": {
        "id": "irwHwBXEE3Ee",
        "colab": {
          "base_uri": "https://localhost:8080/"
        },
        "outputId": "71ccd0c6-14db-46d9-da0f-767d9b76aa70"
      },
      "execution_count": 63,
      "outputs": [
        {
          "output_type": "stream",
          "name": "stdout",
          "text": [
            "Apa makanan favorit naruto?Ramen\n",
            "Kamu benar!\n",
            "Apa nama jurus andalan naruto?Rasengan\n",
            "Kamu benar!\n",
            "Dimana naruto lahir?Konoha\n",
            "Kamu benar!\n",
            "Apa nama anime bajak laut?One piece\n",
            "Kamu benar!\n",
            "Apa nama kartun lucu warna kuning di Pokemon?Pikachu\n",
            "Kamu benar!\n",
            "Akumulasi skor akhir kamu adalah: 100 , sampai jumpa di kuis berikutnya!\n"
          ]
        }
      ]
    }
  ]
}
{
  "nbformat": 4,
  "nbformat_minor": 0,
  "metadata": {
    "colab": {
      "provenance": []
    },
    "kernelspec": {
      "name": "python3",
      "display_name": "Python 3"
    },
    "language_info": {
      "name": "python"
    }
  },
  "cells": [
    {
      "cell_type": "markdown",
      "source": [
        "# **2.20 Numpy**"
      ],
      "metadata": {
        "id": "GwptRDKmWB3V"
      }
    },
    {
      "cell_type": "markdown",
      "source": [
        "**2.20.1 Perintah Dasar pada Numpy**"
      ],
      "metadata": {
        "id": "FCP6gbJnWdJM"
      }
    },
    {
      "cell_type": "code",
      "execution_count": 137,
      "metadata": {
        "colab": {
          "base_uri": "https://localhost:8080/"
        },
        "id": "FGNbpq-OV145",
        "outputId": "461edab8-8517-4dcc-bea7-647dd240a40a"
      },
      "outputs": [
        {
          "output_type": "stream",
          "name": "stdout",
          "text": [
            "Dimensi: 1\n",
            "Ukuran: (6,)\n"
          ]
        }
      ],
      "source": [
        "# dimensi 1\n",
        "import numpy as np\n",
        "array_y_07 = np.array([5,15,25,35,45,55])\n",
        "dimensi_y_07 = print(\"Dimensi:\", array_y_07.ndim)\n",
        "ukuran_array_y_07 = print(\"Ukuran:\", array_y_07.shape)"
      ]
    },
    {
      "cell_type": "code",
      "source": [
        "# dimensi 2\n",
        "import numpy as np\n",
        "x_array_07 = np.array([[12,56],[14,78],[34,28]])\n",
        "tampil_x_array_07 = print(x_array_07)\n",
        "dimensi_x_07 = print(\"Dimensi:\", x_array_07.ndim)\n",
        "ukuran_array_x_07 = print(\"Ukuran:\", x_array_07.shape)\n",
        "print(\"---------------------------------------------------\")\n",
        "r_array_07 = np.array([[120,36,200],[61,98,34]])\n",
        "tampil_r_array_07 = print(r_array_07)\n",
        "dimensi_r_07 = print(\"Dimensi:\", r_array_07.ndim)\n",
        "ukuran_array_r_07 = print(\"Ukuran:\", r_array_07.shape)"
      ],
      "metadata": {
        "colab": {
          "base_uri": "https://localhost:8080/"
        },
        "id": "VCHyACw-Z8VW",
        "outputId": "77e8fbea-0b1c-4714-beba-19cf457349be"
      },
      "execution_count": 138,
      "outputs": [
        {
          "output_type": "stream",
          "name": "stdout",
          "text": [
            "[[12 56]\n",
            " [14 78]\n",
            " [34 28]]\n",
            "Dimensi: 2\n",
            "Ukuran: (3, 2)\n",
            "---------------------------------------------------\n",
            "[[120  36 200]\n",
            " [ 61  98  34]]\n",
            "Dimensi: 2\n",
            "Ukuran: (2, 3)\n"
          ]
        }
      ]
    },
    {
      "cell_type": "code",
      "source": [
        "# dimensi 3\n",
        "import numpy as np\n",
        "a_array_07 = np.array([[[-5,6],[-1,7]]])\n",
        "tampil_a_array_07 = print(a_array_07)\n",
        "dimensi_a_07 = print(\"Dimensi:\", a_array_07.ndim)\n",
        "ukuran_array_a_07 = print(\"Ukuran:\", a_array_07.shape)\n",
        "print(\"===================================================\")\n",
        "b_array_07 = np.array([[[-5,6],[-1,7],[3,6]]])\n",
        "tampil_b_array_07 = print(b_array_07)\n",
        "dimensi_b_07 = print(\"Dimensi:\", b_array_07.ndim)\n",
        "ukuran_array_b_07 = print(\"Ukuran:\", b_array_07.shape)"
      ],
      "metadata": {
        "colab": {
          "base_uri": "https://localhost:8080/"
        },
        "id": "BrYlFmO6Z8mt",
        "outputId": "5f3792f9-82ff-44aa-c421-53aec1edbbac"
      },
      "execution_count": 139,
      "outputs": [
        {
          "output_type": "stream",
          "name": "stdout",
          "text": [
            "[[[-5  6]\n",
            "  [-1  7]]]\n",
            "Dimensi: 3\n",
            "Ukuran: (1, 2, 2)\n",
            "===================================================\n",
            "[[[-5  6]\n",
            "  [-1  7]\n",
            "  [ 3  6]]]\n",
            "Dimensi: 3\n",
            "Ukuran: (1, 3, 2)\n"
          ]
        }
      ]
    },
    {
      "cell_type": "code",
      "source": [
        "# dimensi 3\n",
        "c_array_07 = np.array([[[-5,6,2],[-1,7,8],[2,0,2]],\n",
        "                      [[0,1,0],[4,7,9],[1,0,0]]])\n",
        "tampil_c_array_07 = print(c_array_07)\n",
        "dimensi_c_07 = print(\"Dimensi:\", c_array_07.ndim)\n",
        "ukuran_array_c_07 = print(\"Ukuran:\", c_array_07.shape)\n",
        "print(\"===================================================\")\n",
        "d_array_07 = np.array([[[-5,6,2],[-1,7,8]],\n",
        "                      [[0,1,0],[4,7,9]],\n",
        "                      [[3,6,5],[0,2,7]]])\n",
        "tampil_d_array_07 = print(d_array_07)\n",
        "dimensi_d_07 = print(\"Dimensi:\", d_array_07.ndim)\n",
        "ukuran_array_d_07 = print(\"Ukuran:\", d_array_07.shape)"
      ],
      "metadata": {
        "colab": {
          "base_uri": "https://localhost:8080/"
        },
        "id": "LlUKAatV1AZK",
        "outputId": "001e579d-62df-4a59-c037-baba45ce38d1"
      },
      "execution_count": 140,
      "outputs": [
        {
          "output_type": "stream",
          "name": "stdout",
          "text": [
            "[[[-5  6  2]\n",
            "  [-1  7  8]\n",
            "  [ 2  0  2]]\n",
            "\n",
            " [[ 0  1  0]\n",
            "  [ 4  7  9]\n",
            "  [ 1  0  0]]]\n",
            "Dimensi: 3\n",
            "Ukuran: (2, 3, 3)\n",
            "===================================================\n",
            "[[[-5  6  2]\n",
            "  [-1  7  8]]\n",
            "\n",
            " [[ 0  1  0]\n",
            "  [ 4  7  9]]\n",
            "\n",
            " [[ 3  6  5]\n",
            "  [ 0  2  7]]]\n",
            "Dimensi: 3\n",
            "Ukuran: (3, 2, 3)\n"
          ]
        }
      ]
    },
    {
      "cell_type": "markdown",
      "source": [
        "**2.20.2 Memanggil Anggota, Kolom dan Baris dengan Numpy**"
      ],
      "metadata": {
        "id": "f3hCjJTZZ9N9"
      }
    },
    {
      "cell_type": "code",
      "source": [
        "import numpy as np\n",
        "y_array_07 = np.array([5,-15,-25,35,-45,-55])\n",
        "anggota_array_kelima_07 = print(\"Anggota/nilai ke-5:\", y_array_07[5])"
      ],
      "metadata": {
        "colab": {
          "base_uri": "https://localhost:8080/"
        },
        "id": "WBxYUTwIaF2p",
        "outputId": "90b68bae-684d-4b2b-b368-287b7fa22d4d"
      },
      "execution_count": 141,
      "outputs": [
        {
          "output_type": "stream",
          "name": "stdout",
          "text": [
            "Anggota/nilai ke-5: -55\n"
          ]
        }
      ]
    },
    {
      "cell_type": "code",
      "source": [
        "# dimensi 2\n",
        "import numpy as np\n",
        "w_array_07 = np.array([[12,16],[1,0],[14,18]])\n",
        "tampil_w_array_07 = print(w_array_07)\n",
        "panggil_baris_07 = print(\"Baris pertama (W):\", w_array_07[0,:])\n",
        "panggil_kolom_kelima_07 = print(\"Kolom pertama (W):\", w_array_07[:,0])\n",
        "panggil_baris_kolom_07 = print(\"Baris pertama dan kolom pertama (W):\", w_array_07[0,0])\n",
        "print(\"=======================================\")\n",
        "n_array_07 = np.array([[120,36,200],[61,98,34]])\n",
        "tampil_n_array_07 = print(n_array_07)\n",
        "panggil_baris_07 = print(\"Baris kedua (N):\", n_array_07[1,:])\n",
        "panggil_kolom_kelima_07 = print(\"Kolom pertama (N):\", n_array_07[:,0])\n",
        "panggil_baris_kolom_07 = print(\"Baris kedua dan kolom pertama (N):\", n_array_07[1,0])"
      ],
      "metadata": {
        "colab": {
          "base_uri": "https://localhost:8080/"
        },
        "id": "yvwWq6GkaGOh",
        "outputId": "bd1ba216-1997-4244-a355-e3e334b96959"
      },
      "execution_count": 142,
      "outputs": [
        {
          "output_type": "stream",
          "name": "stdout",
          "text": [
            "[[12 16]\n",
            " [ 1  0]\n",
            " [14 18]]\n",
            "Baris pertama (W): [12 16]\n",
            "Kolom pertama (W): [12  1 14]\n",
            "Baris pertama dan kolom pertama (W): 12\n",
            "=======================================\n",
            "[[120  36 200]\n",
            " [ 61  98  34]]\n",
            "Baris kedua (N): [61 98 34]\n",
            "Kolom pertama (N): [120  61]\n",
            "Baris kedua dan kolom pertama (N): 61\n"
          ]
        }
      ]
    },
    {
      "cell_type": "code",
      "source": [
        "import numpy as np\n",
        "array_07 = np.array([[-5,6,2],\n",
        "                     [-1,7,8],\n",
        "                     [2,0,2]])\n",
        "tampil_array_07 = print(array_07)\n",
        "def panggil_nilai_07(baris, kolom):\n",
        "  if baris < 0 or kolom < 0 or baris >= array_07.shape[0] or kolom >= array_07.shape[0]:\n",
        "    return (\"Sudah di luar batas array\")\n",
        "  return array_07[baris, kolom]\n",
        "input_baris_07 = int(input(\"Masukkan nomor baris keberapa diantara 0-2: \"))\n",
        "input_kolom_07 = int(input(\"Masukkan nomor kolom keberapa diantara 0-2: \"))\n",
        "nilai_array_07 = panggil_nilai_07(input_baris_07, input_kolom_07)\n",
        "hasil_array_07 = print(f\"Hasil di baris ke {input_baris_07} dan kolom ke {input_kolom_07} adalah: {nilai_array_07}\")"
      ],
      "metadata": {
        "colab": {
          "base_uri": "https://localhost:8080/"
        },
        "id": "DVlVZkruBWnT",
        "outputId": "171ea353-2c0a-47df-c566-b637b485cef8"
      },
      "execution_count": 143,
      "outputs": [
        {
          "output_type": "stream",
          "name": "stdout",
          "text": [
            "[[-5  6  2]\n",
            " [-1  7  8]\n",
            " [ 2  0  2]]\n",
            "Masukkan nomor baris keberapa diantara 0-2: 1\n",
            "Masukkan nomor kolom keberapa diantara 0-2: 0\n",
            "Hasil di baris ke 1 dan kolom ke 0 adalah: -1\n"
          ]
        }
      ]
    },
    {
      "cell_type": "markdown",
      "source": [
        "**2.20.3  Matrix pada Numpy**"
      ],
      "metadata": {
        "id": "8e7K1fTGaI9x"
      }
    },
    {
      "cell_type": "code",
      "source": [
        "# buat matriks 3x3\n",
        "import numpy as np\n",
        "w_07 = np.zeros((3,3))\n",
        "print(w_07)\n",
        "print(\" \")\n",
        "o_07 = np.identity(3)\n",
        "print(o_07)\n",
        "print(\" \")\n",
        "n_07 = 7*o_07\n",
        "print(n_07)"
      ],
      "metadata": {
        "colab": {
          "base_uri": "https://localhost:8080/"
        },
        "id": "3P-CUkssaOUx",
        "outputId": "596e20c2-d3a2-4100-c3b1-5465f2e5e85a"
      },
      "execution_count": 144,
      "outputs": [
        {
          "output_type": "stream",
          "name": "stdout",
          "text": [
            "[[0. 0. 0.]\n",
            " [0. 0. 0.]\n",
            " [0. 0. 0.]]\n",
            " \n",
            "[[1. 0. 0.]\n",
            " [0. 1. 0.]\n",
            " [0. 0. 1.]]\n",
            " \n",
            "[[7. 0. 0.]\n",
            " [0. 7. 0.]\n",
            " [0. 0. 7.]]\n"
          ]
        }
      ]
    },
    {
      "cell_type": "markdown",
      "source": [
        "**2.20.4 Copy pada Numpy**"
      ],
      "metadata": {
        "id": "d2zKgMDfaUZx"
      }
    },
    {
      "cell_type": "code",
      "source": [
        "import numpy as np\n",
        "f_07 = np.array([-10,-9,-8,-7])\n",
        "g_07 = f_07.copy()\n",
        "g_07[2] = -6\n",
        "print(g_07)"
      ],
      "metadata": {
        "colab": {
          "base_uri": "https://localhost:8080/"
        },
        "id": "MSQ5XpdNab-A",
        "outputId": "73ae8b47-012f-48d2-fd60-c789516b44aa"
      },
      "execution_count": 145,
      "outputs": [
        {
          "output_type": "stream",
          "name": "stdout",
          "text": [
            "[-10  -9  -6  -7]\n"
          ]
        }
      ]
    },
    {
      "cell_type": "markdown",
      "source": [
        "**2.20.5 Operasi Matematika pada Numpy**"
      ],
      "metadata": {
        "id": "732h0DClach6"
      }
    },
    {
      "cell_type": "code",
      "source": [
        "import numpy as np\n",
        "y_07 = np.array([5,15,-25,-35,45,55])\n",
        "operasi_nilai_07 = y_07/5\n",
        "hasil_operasi_nilai_07 = print (f\"Hasil operasi array: {operasi_nilai_07}\")"
      ],
      "metadata": {
        "colab": {
          "base_uri": "https://localhost:8080/"
        },
        "id": "5yzIBHNwah9h",
        "outputId": "b2f6fd9b-04a6-4617-b50b-c7a2253fcd21"
      },
      "execution_count": 146,
      "outputs": [
        {
          "output_type": "stream",
          "name": "stdout",
          "text": [
            "Hasil operasi array: [ 1.  3. -5. -7.  9. 11.]\n"
          ]
        }
      ]
    },
    {
      "cell_type": "code",
      "source": [
        "import numpy as np\n",
        "p_07 = np.array([5,4,-2,-3,4,5])\n",
        "h_07 = np.array([0,1,0,2,0,3])\n",
        "operasi_nilai_07 = p_07+h_07\n",
        "hasil_operasi_nilai_07 = print (f\"Hasil operasi array: {operasi_nilai_07}\")"
      ],
      "metadata": {
        "colab": {
          "base_uri": "https://localhost:8080/"
        },
        "id": "WnqhPup9ZYib",
        "outputId": "3e0e6674-ecff-4e5d-ab25-c298f0e0fea2"
      },
      "execution_count": 147,
      "outputs": [
        {
          "output_type": "stream",
          "name": "stdout",
          "text": [
            "Hasil operasi array: [ 5  5 -2 -1  4  8]\n"
          ]
        }
      ]
    },
    {
      "cell_type": "markdown",
      "source": [
        "**2.20.6 Perkalian Matrik pada Numpy**"
      ],
      "metadata": {
        "id": "0nbCCIzdai2x"
      }
    },
    {
      "cell_type": "code",
      "source": [
        "import numpy as np\n",
        "j_07 = np.array([[7, 1, 0],\n",
        "                 [0, 7, 1],\n",
        "                 [1, 0, 7],\n",
        "                 [0, 0, 1]])\n",
        "u_07 = np.array ([[2, 4, 1, 0],\n",
        "                  [0, 8, 5, 2],\n",
        "                  [3, 2, 0, 0]])\n",
        "print(j_07)\n",
        "print(\" \")\n",
        "print(u_07)\n",
        "print(\" \")\n",
        "hasil_kali_07 = np.matmul(j_07, u_07)\n",
        "tampil_hasil_07 = print(hasil_kali_07)\n"
      ],
      "metadata": {
        "colab": {
          "base_uri": "https://localhost:8080/"
        },
        "id": "omEQNZAIaiDx",
        "outputId": "3c67d334-5cbc-4c05-d1a7-259e45144d2e"
      },
      "execution_count": 148,
      "outputs": [
        {
          "output_type": "stream",
          "name": "stdout",
          "text": [
            "[[7 1 0]\n",
            " [0 7 1]\n",
            " [1 0 7]\n",
            " [0 0 1]]\n",
            " \n",
            "[[2 4 1 0]\n",
            " [0 8 5 2]\n",
            " [3 2 0 0]]\n",
            " \n",
            "[[14 36 12  2]\n",
            " [ 3 58 35 14]\n",
            " [23 18  1  0]\n",
            " [ 3  2  0  0]]\n"
          ]
        }
      ]
    },
    {
      "cell_type": "markdown",
      "source": [
        "**2.20.7 min, max dan sum pada Numpy**"
      ],
      "metadata": {
        "id": "en1hPZG7aptB"
      }
    },
    {
      "cell_type": "code",
      "source": [
        "import numpy as np\n",
        "d_07 = np.array([[120,-20,0],[6,9,34]])\n",
        "m_07 = np.max(d_07)\n",
        "print(m_07)"
      ],
      "metadata": {
        "colab": {
          "base_uri": "https://localhost:8080/"
        },
        "id": "Fa3CIsw5auSp",
        "outputId": "7a00c22d-c203-44f3-80d2-32ec12c3f56e"
      },
      "execution_count": 149,
      "outputs": [
        {
          "output_type": "stream",
          "name": "stdout",
          "text": [
            "120\n"
          ]
        }
      ]
    },
    {
      "cell_type": "code",
      "source": [
        "import numpy as np\n",
        "q_07 = np.array([[120,-20,0],[6,9,34],[0,1,4]])\n",
        "h_07 = np.sum(q_07, axis=1)\n",
        "print(h_07)"
      ],
      "metadata": {
        "colab": {
          "base_uri": "https://localhost:8080/"
        },
        "id": "DyjfAvYWbOah",
        "outputId": "dd77edfb-a0a2-4531-985f-581a50d79dda"
      },
      "execution_count": 150,
      "outputs": [
        {
          "output_type": "stream",
          "name": "stdout",
          "text": [
            "[100  49   5]\n"
          ]
        }
      ]
    }
  ]
}
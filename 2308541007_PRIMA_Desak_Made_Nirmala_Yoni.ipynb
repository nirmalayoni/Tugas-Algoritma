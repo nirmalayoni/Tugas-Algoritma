{
  "nbformat": 4,
  "nbformat_minor": 0,
  "metadata": {
    "colab": {
      "provenance": []
    },
    "kernelspec": {
      "name": "python3",
      "display_name": "Python 3"
    },
    "language_info": {
      "name": "python"
    }
  },
  "cells": [
    {
      "cell_type": "code",
      "execution_count": null,
      "metadata": {
        "id": "LfXmU6NjXTDn"
      },
      "outputs": [],
      "source": [
        "# diberikan soal, jika diketahui bahwa 𝑛 adalah dua digit terakhir dari NIM kalian, maka tentukan biangan prima antara 1000𝑛 dan 1000(𝑛+1)\n",
        "# dua digit terakhir nim = 7, 1000(7) dan 1000(7+1)\n",
        "# mencari bilangan prima antara 7000 hingga 8000"
      ]
    },
    {
      "cell_type": "code",
      "source": [
        "judul_07 = print(\"Menemukan semua bilangan prima antara 7000 hingga 8000\")\n",
        "\n",
        "# menggunakan perulangan for dan fungsi range\n",
        "# fungsi range untuk membangkitkan bilangan berurutan atau berpola yang diinginkan\n",
        "for angka_07 in range(7000,8001):\n",
        "  # kemudian cek kondisi\n",
        "  if angka_07 > 7000: # karena 7000 bukan bilangan prima\n",
        "    prima_07 = True # akan dieksekusi selama nilainya true\n",
        "    for i in range(2,int(angka_07**0.5)+1): # dieksekusi\n",
        "    # (angka**0.5)+1 = nilai akar kuadrat dari num dan + 1 memastikan bahwa range dari loop mencangkup angka tersebut\n",
        "      if angka_07 % i == 0:\n",
        "        prima_07 = False # akan berhenti saat nilainya menjadi false\n",
        "        break # mengakhiri perintah\n",
        "    if prima_07:\n",
        "      print(angka_07, end=' ') # menampilkan semua bilangan prima antara 7000 sampai 8000"
      ],
      "metadata": {
        "colab": {
          "base_uri": "https://localhost:8080/"
        },
        "id": "35rxkzLsYRJT",
        "outputId": "44c775ea-9c90-46f5-f321-0869a40c0596"
      },
      "execution_count": 31,
      "outputs": [
        {
          "output_type": "stream",
          "name": "stdout",
          "text": [
            "Menemukan semua bilangan prima antara 7000 hingga 8000\n",
            "7001 7013 7019 7027 7039 7043 7057 7069 7079 7103 7109 7121 7127 7129 7151 7159 7177 7187 7193 7207 7211 7213 7219 7229 7237 7243 7247 7253 7283 7297 7307 7309 7321 7331 7333 7349 7351 7369 7393 7411 7417 7433 7451 7457 7459 7477 7481 7487 7489 7499 7507 7517 7523 7529 7537 7541 7547 7549 7559 7561 7573 7577 7583 7589 7591 7603 7607 7621 7639 7643 7649 7669 7673 7681 7687 7691 7699 7703 7717 7723 7727 7741 7753 7757 7759 7789 7793 7817 7823 7829 7841 7853 7867 7873 7877 7879 7883 7901 7907 7919 7927 7933 7937 7949 7951 7963 7993 "
          ]
        }
      ]
    },
    {
      "cell_type": "code",
      "source": [
        "judul_07 = print(\"Menemukan semua bilangan prima antara 7000 hingga 8000\")\n",
        "\n",
        "# fungsi\n",
        "def prima(angka_07):\n",
        "  if angka_07 < 2:\n",
        "    return False\n",
        "  for i in range(2, int(angka_07**0.5)+1):\n",
        "    if angka_07 % i == 0:\n",
        "      return False\n",
        "  return True\n",
        "\n",
        "# list\n",
        "angka_prima_07 = [angka_07 for angka_07 in range(7000, 8001) if prima(angka_07)]\n",
        "print(angka_prima_07)\n",
        "print(f\"Jumlah semua bilangan prima antara 7000 hingga 8000 adalah {len(angka_prima_07)}\")"
      ],
      "metadata": {
        "colab": {
          "base_uri": "https://localhost:8080/"
        },
        "id": "tj5mnrqvff9Z",
        "outputId": "6c9299a4-6d7e-4839-f50c-f09b8b66a850"
      },
      "execution_count": 30,
      "outputs": [
        {
          "output_type": "stream",
          "name": "stdout",
          "text": [
            "Menemukan semua bilangan prima antara 7000 hingga 8000\n",
            "[7001, 7013, 7019, 7027, 7039, 7043, 7057, 7069, 7079, 7103, 7109, 7121, 7127, 7129, 7151, 7159, 7177, 7187, 7193, 7207, 7211, 7213, 7219, 7229, 7237, 7243, 7247, 7253, 7283, 7297, 7307, 7309, 7321, 7331, 7333, 7349, 7351, 7369, 7393, 7411, 7417, 7433, 7451, 7457, 7459, 7477, 7481, 7487, 7489, 7499, 7507, 7517, 7523, 7529, 7537, 7541, 7547, 7549, 7559, 7561, 7573, 7577, 7583, 7589, 7591, 7603, 7607, 7621, 7639, 7643, 7649, 7669, 7673, 7681, 7687, 7691, 7699, 7703, 7717, 7723, 7727, 7741, 7753, 7757, 7759, 7789, 7793, 7817, 7823, 7829, 7841, 7853, 7867, 7873, 7877, 7879, 7883, 7901, 7907, 7919, 7927, 7933, 7937, 7949, 7951, 7963, 7993]\n",
            "Jumlah semua bilangan prima antara 7000 hingga 8000 adalah 107\n"
          ]
        }
      ]
    }
  ]
}
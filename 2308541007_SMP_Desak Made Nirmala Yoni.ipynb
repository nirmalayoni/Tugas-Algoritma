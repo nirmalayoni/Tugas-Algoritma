{
  "nbformat": 4,
  "nbformat_minor": 0,
  "metadata": {
    "colab": {
      "provenance": []
    },
    "kernelspec": {
      "name": "python3",
      "display_name": "Python 3"
    },
    "language_info": {
      "name": "python"
    }
  },
  "cells": [
    {
      "cell_type": "code",
      "source": [
        "# kerangka\n",
        "# diberikan soal diketahui x memenuhi: x^2+x-1=0. Tentukan nilai dari n yang memenuhi: x^2024-x^2025=(x(1-x))^n\n",
        "# mencari nilai n dengan fungsi logaritma\n",
        "# dari x^2+x-1=0 bisa didapati bahwa x^2 = 1-x\n",
        "# x^2024-x^2025 = x^2024(1-x) = x^2024(x^2) = x^2026 = hasil kiri\n",
        "# (x(1-x))^n = (x(x^2))^n = (x^3)^n = hasil kanan\n",
        "# n = log (x^2026)/log (x^3)\n",
        "# atau bisa juga menggunakan salah satu dari akar-akar penyelesaiian x1 = (-1+sqrt 5)/2 atau x2 = (-1-sqrt5)/2 (diperoleh dari rumus abc)"
      ],
      "metadata": {
        "id": "K-cdw8S8nSVS"
      },
      "execution_count": null,
      "outputs": []
    },
    {
      "cell_type": "markdown",
      "source": [
        "Penyelesaian (kode 1)"
      ],
      "metadata": {
        "id": "BBRYo7QlPV5M"
      }
    },
    {
      "cell_type": "code",
      "source": [
        "import math\n",
        "import cmath\n",
        "\n",
        "soal_07 = print (\"Diberikan soal, diketahui x memenuhi: x^2+x-1=0. Tentukan nilai dari n yang memenuhi: x^2024-x^2025 = (x(1-x))^n\")\n",
        "soal_07 = print (\"Kita coba hitung dengan logaritma di python\")\n",
        "\n",
        "print(\" \") # buat spasi\n",
        "\n",
        "cariakar_07 = print (\"Tadi diketahui kalau x memenuhi persamaan kuadrat x^2+x-1=0, kita bisa cari akar-akar persamaannya\")\n",
        "# inisialisasi nilai a,b dan c dari persamaan kuadrat x^2+x-1=0\n",
        "a_07 = 1 # koefisien dari x^2\n",
        "b_07 = 1 # koefisien dari x\n",
        "c_07 = -1 # konstanta\n",
        "\n",
        "cariakar2_07 = print(\"Pertama ditentukan nilai a,b,c dari persamaan kuadrat di atas\")\n",
        "# menampilkan nilai a,b,c dari persamaan kuadrat x^2+x-1=0\n",
        "print('Nilai a = ', a_07)\n",
        "print('Nilai b = ', b_07)\n",
        "print('Nilai c = ', c_07)\n",
        "\n",
        "# menghitung diskriminan\n",
        "d_07 = (b_07**2) - (4*a_07*c_07)\n",
        "\n",
        "print(\" \") # ceritanya spasi\n",
        "cariakar3_07 = print(\"Kemudian dicari akar-akar nya dengan rumus ABC, sehingga diperoleh:\")\n",
        "# mencari solusi persamaan kuadrat dengan rumus ABC\n",
        "x1_07 = (-b_07+cmath.sqrt(d_07))/(2*a_07)\n",
        "x2_07 = (-b_07-cmath.sqrt(d_07))/(2*a_07)\n",
        "print(\"Akar pertama (x1)=\", str(x1_07))\n",
        "print(\"Akar kedua (x2)=\", str(x2_07))\n",
        "\n",
        "print(\" \") # spasi\n",
        "# penyederhanaan bentuk\n",
        "arahan_07 = print(\"Kalau kita perhatikan, dari x^2+x-1=0 bisa didapati bahwa x^2 = 1-x, nilai ini akan kita gunakan nantinyaa\")\n",
        "arahan_07 = print(\"Kemudian, bentuk dari x^2024-x^2025 pun bisa kita sederhanakan menjadi x^2024(1-x)\")\n",
        "arahan_07 = print(\"Tadi kita punya 1-x = x^2, sehingga x^2024(1-x) = x^2024(x^2) = x^2026\")\n",
        "arahan_07 = print(\"Begitu pun dengan (x(1-x))^n bisa kita ubah jadi (x(x^2))^n = (x^3)^n\")\n",
        "\n",
        "print(\" \") # spasi\n",
        "\n",
        "penyelesaian1_07 = print(\"Disebutkan sebelumnya bahwa nilai dari n memenuhi: x^2024-x^2025 = (x(1-x))^n\")\n",
        "penyelesaian2_07 = print(\"Anggap ruas kiri nya x^2026 dan yang kanan (x^3)^n, kita akan coba mencari n dengan log dan akar-akar yang kita miliki\")\n",
        "\n",
        "print(\" \")\n",
        "# meminta pengguna memasukkan nilai akar-akar penyelesaian persamaan kuadrat\n",
        "# x1 = 1 kalau x2 = 2\n",
        "pilih_07 = int(input(\"Masukkan pilihan 1 (pakai nilai x1) atau 2 (pakai nilai x2) untuk mencari nilai n = \"))\n",
        "\n",
        "if pilih_07 == 1:\n",
        "  # x^2026 akan mengeluarkan angka yang sangat besar dan menyebabkan overflow atau out of range di python\n",
        "  # menghitung nilai n dengan math.log()\n",
        "  hasil_kiri_07 = 2026 * math.log(x1_07.real) # untuk menghindari bilangan kompleks jadi menggunakan nilai real\n",
        "  hasil_kanan_07 = 3 * math.log(x1_07.real)\n",
        "  n_07 = hasil_kiri_07/hasil_kanan_07\n",
        "  # print hasil\n",
        "  print(\"Diperoleh nilai n adalah:\", n_07.real)\n",
        "else:\n",
        "  # x^2026 akan mengeluarkan angka yang sangat besar dan menyebabkan overflow atau out of range di python\n",
        "  # menghitung nilai n dengan cmath.log(\n",
        "  hasil_kiri_07 = 2026 * cmath.log(x2_07)\n",
        "  hasil_kanan_07 = 3 * cmath.log(x2_07)\n",
        "  # awalnya saya coba pakai math dan berakhir math domain eror, logaritma tidak terdefinisi untuk bilangan nol atau negatif\n",
        "  # karena nilai x2 kompleks saya coba pakai cmath dan berakhir ter run\n",
        "  n_07 = hasil_kiri_07/hasil_kanan_07\n",
        "  # hasil dikonversi menjadi float agar lebih mudah dibaca\n",
        "  # print hasil\n",
        "  print(\"Diperoleh nilai n adalah:\", n_07.real) # mengubah agar hasilnya dalam range bilangan real"
      ],
      "metadata": {
        "colab": {
          "base_uri": "https://localhost:8080/"
        },
        "id": "34Z-2PVZrT_s",
        "outputId": "8a99aac7-c5a4-4adb-d3e0-65a226746fed"
      },
      "execution_count": 74,
      "outputs": [
        {
          "output_type": "stream",
          "name": "stdout",
          "text": [
            "Diberikan soal, diketahui x memenuhi: x^2+x-1=0. Tentukan nilai dari n yang memenuhi: x^2024-x^2025 = (x(1-x))^n\n",
            "Kita coba hitung dengan logaritma di python\n",
            " \n",
            "Tadi diketahui kalau x memenuhi persamaan kuadrat x^2+x-1=0, kita bisa cari akar-akar persamaannya\n",
            "Pertama ditentukan nilai a,b,c dari persamaan kuadrat di atas\n",
            "Nilai a =  1\n",
            "Nilai b =  1\n",
            "Nilai c =  -1\n",
            " \n",
            "Kemudian dicari akar-akar nya dengan rumus ABC, sehingga diperoleh:\n",
            "Akar pertama (x1)= (0.6180339887498949+0j)\n",
            "Akar kedua (x2)= (-1.618033988749895+0j)\n",
            " \n",
            "Kalau kita perhatikan, dari x^2+x-1=0 bisa didapati bahwa x^2 = 1-x, nilai ini akan kita gunakan nantinyaa\n",
            "Kemudian, bentuk dari x^2024-x^2025 pun bisa kita sederhanakan menjadi x^2024(1-x)\n",
            "Tadi kita punya 1-x = x^2, sehingga x^2024(1-x) = x^2024(x^2) = x^2026\n",
            "Begitu pun dengan (x(1-x))^n bisa kita ubah jadi (x(x^2))^n = (x^3)^n\n",
            " \n",
            "Disebutkan sebelumnya bahwa nilai dari n memenuhi: x^2024-x^2025 = (x(1-x))^n\n",
            "Anggap ruas kiri nya x^2026 dan yang kanan (x^3)^n, kita akan coba mencari n dengan log dan akar-akar yang kita miliki\n",
            " \n",
            "Masukkan pilihan 1 (pakai nilai x1) atau 2 (pakai nilai x2) untuk mencari nilai n = 1\n",
            "Diperoleh nilai n adalah: 675.3333333333333\n"
          ]
        }
      ]
    }
  ]
}